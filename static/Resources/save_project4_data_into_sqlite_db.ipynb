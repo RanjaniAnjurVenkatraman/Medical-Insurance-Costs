{
 "cells": [
  {
   "cell_type": "code",
   "execution_count": 1,
   "id": "cc580b27",
   "metadata": {},
   "outputs": [],
   "source": [
    "import pandas as pd\n",
    "import sqlite3\n",
    "# Import SQL Alchemy\n",
    "# from sqlalchemy import create_engine\n",
    "# from sqlalchemy.orm import Session"
   ]
  },
  {
   "cell_type": "code",
   "execution_count": 2,
   "id": "446ec206",
   "metadata": {},
   "outputs": [],
   "source": [
    "conn = sqlite3.connect('gtbc_project_4.db')"
   ]
  },
  {
   "cell_type": "code",
   "execution_count": 3,
   "id": "d99451fa",
   "metadata": {},
   "outputs": [],
   "source": [
    "medical_record_df = pd.read_csv('./static/Resources/insurance.csv')"
   ]
  },
  {
   "cell_type": "code",
   "execution_count": 4,
   "id": "820d8c90",
   "metadata": {},
   "outputs": [],
   "source": [
    "medical_record_df.to_sql(\"gtbc_project_4\", conn, if_exists='replace', index=False)"
   ]
  },
  {
   "cell_type": "code",
   "execution_count": 5,
   "id": "f931506e",
   "metadata": {},
   "outputs": [],
   "source": [
    "conn.close()"
   ]
  },
  {
   "cell_type": "code",
   "execution_count": null,
   "id": "2f9bb428",
   "metadata": {},
   "outputs": [],
   "source": []
  }
 ],
 "metadata": {
  "kernelspec": {
   "display_name": "Python 3",
   "language": "python",
   "name": "python3"
  },
  "language_info": {
   "codemirror_mode": {
    "name": "ipython",
    "version": 3
   },
   "file_extension": ".py",
   "mimetype": "text/x-python",
   "name": "python",
   "nbconvert_exporter": "python",
   "pygments_lexer": "ipython3",
   "version": "3.8.2"
  }
 },
 "nbformat": 4,
 "nbformat_minor": 5
}
